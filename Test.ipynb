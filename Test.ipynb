{
  "nbformat": 4,
  "nbformat_minor": 0,
  "metadata": {
    "colab": {
      "name": "Test.ipynb",
      "provenance": [],
      "collapsed_sections": [],
      "toc_visible": true,
      "authorship_tag": "ABX9TyM/fGNon3PvAMp0TloGIq4u",
      "include_colab_link": true
    },
    "kernelspec": {
      "name": "python3",
      "display_name": "Python 3"
    }
  },
  "cells": [
    {
      "cell_type": "markdown",
      "metadata": {
        "id": "view-in-github",
        "colab_type": "text"
      },
      "source": [
        "<a href=\"https://colab.research.google.com/github/hamad2810/AI-Task/blob/master/Test.ipynb\" target=\"_parent\"><img src=\"https://colab.research.google.com/assets/colab-badge.svg\" alt=\"Open In Colab\"/></a>"
      ]
    },
    {
      "cell_type": "markdown",
      "metadata": {
        "id": "rPoFZonJ6N_w"
      },
      "source": [
        "# AI TASK\n",
        "\n",
        "First few things that you can tell just by looking at the problem is that it involves finding the similarity between sentences. If we can find the simliraity between input senstence with every other sentence in the DATA file.\n",
        "\n",
        "\n",
        "## Descriptions/Assumptions\n",
        "###Semantics:\n",
        "What about semantics of the sentence? For example,\n",
        "*   I do not love you but, hate you.\n",
        "*   I do not hate you but, love you.\n",
        "\n",
        "Syntactically, these two are similar sentences, i.e., made up of exactly same words. Just two words 'love' & 'hate' have switched places. But these sentences are opposite in meaning. But in our case, we will be suggesting second sentence, if first sentence is given as input. i.e, Ignoring the semantics of the sentence.\n",
        "\n",
        "###Syntax:\n",
        "What about these two sentences\n",
        "*   Brian likes apples\n",
        "*   Emma loves oranges\n",
        "\n",
        "\n",
        "\n",
        "Syntactically, these two are different sentences, i.e., these two sentences have NO common words. But, should these two sentences be categorized as similar? Semantically YES! In both of these sentences, a person is expressing his/her fondness for a fruit. Brian is similar to Emma(a person's name), 'likes' is similar to 'loves' and 'apples' is similar to 'oranges'(both are fruits).\n",
        "\n",
        "Both sentences are similar in meaning.\n",
        "\n",
        "\n",
        "---\n",
        "\n",
        "\n",
        "\n",
        "## Simplest Solution:\n",
        "Finding cosine similarity of input sentence with every sentence in our \"Obersvations Details.xlsx\" file. Output sentences with maximum value of similarity coefficient.\n",
        "\n",
        "\n",
        "## Solution 2:\n",
        "We can also use some modified version of clustering algorithm like kMeans.By going through an iteration of KMeans algorithm with k=2 and our \n",
        "\n",
        "input sentence as the centre of 1st centroid. k nearest neighbours\n"
      ]
    },
    {
      "cell_type": "code",
      "metadata": {
        "id": "-5vtLLvToFcw"
      },
      "source": [
        "import pandas as pd\n",
        "#df = pd.read_excel('SORs.xlsx')\n",
        "#df = pd.read_excel('https://drive.google.com/file/d/1l-pUU1EJAmNNgtcG0VwXWcKC-pLmv1uq/view')\n",
        "url = 'https://doc-0k-3c-docs.googleusercontent.com/docs/securesc/9rirsni0qh0n7ucohqn0uvj1hamirv6b/ploa1qf51lt0p9kbv4fus69ikhlpvkl8/1603358250000/02547213131884931798/02547213131884931798/1l-pUU1EJAmNNgtcG0VwXWcKC-pLmv1uq?e=download&authuser=0'\n",
        "df = pd.read_excel(url)\n",
        "df.head()"
      ],
      "execution_count": null,
      "outputs": []
    },
    {
      "cell_type": "code",
      "metadata": {
        "id": "AHwL1y9SoqX5"
      },
      "source": [
        "\n",
        "X =\"Face and eye protection equipment shall be kept clean and in good repair\".lower()\n",
        "#X = input(\"Enter input string: \").lower()"
      ],
      "execution_count": null,
      "outputs": []
    },
    {
      "cell_type": "code",
      "metadata": {
        "id": "VolOlmJDvDCe"
      },
      "source": [
        "dataList = df['Observation Details'].to_list()\n",
        "#dataList = list(set(dataList))"
      ],
      "execution_count": null,
      "outputs": []
    },
    {
      "cell_type": "code",
      "metadata": {
        "id": "i8oIK7v-CBjs",
        "outputId": "473806d4-8dd5-4c69-c73d-411b19dfbc52",
        "colab": {
          "base_uri": "https://localhost:8080/",
          "height": 108
        }
      },
      "source": [
        "# Program to measure the similarity between  \n",
        "# two sentences using cosine similarity.\n",
        "from nltk.corpus import stopwords \n",
        "from nltk.tokenize import word_tokenize\n",
        "import nltk\n",
        "nltk.download('punkt')\n",
        "nltk.download('stopwords')"
      ],
      "execution_count": null,
      "outputs": [
        {
          "output_type": "stream",
          "text": [
            "[nltk_data] Downloading package punkt to /root/nltk_data...\n",
            "[nltk_data]   Unzipping tokenizers/punkt.zip.\n",
            "[nltk_data] Downloading package stopwords to /root/nltk_data...\n",
            "[nltk_data]   Unzipping corpora/stopwords.zip.\n"
          ],
          "name": "stdout"
        },
        {
          "output_type": "execute_result",
          "data": {
            "text/plain": [
              "True"
            ]
          },
          "metadata": {
            "tags": []
          },
          "execution_count": 8
        }
      ]
    },
    {
      "cell_type": "code",
      "metadata": {
        "id": "zgH_0O_B1C4l"
      },
      "source": [
        "def SimilarityBetweenTwoSentences(X, Y):\n",
        "  # X & Y are two input sentences\n",
        "  # This function will find the cosine similarity between these two sentences\n",
        "\n",
        "  # tokenization \n",
        "  X_list = word_tokenize(X)  \n",
        "  Y_list = word_tokenize(Y)\n",
        "  #print(\"After tokenization: \", X_list)\n",
        "  # stopwords = sw contains the list of stopwords \n",
        "  sw = stopwords.words('english')  + [\",\", \".\"]\n",
        "  l1 =[];l2 =[] \n",
        "    \n",
        "  # remove stop words from the string \n",
        "  X_set = {w for w in X_list if not w in sw}  \n",
        "  Y_set = {w for w in Y_list if not w in sw} \n",
        "  #print(\"After removing stopwords: \", X_set)\n",
        "\n",
        "  # form a set containing keywords of both strings  \n",
        "  rvector = X_set.union(Y_set)\n",
        "  # print(\"Check: \", check)\n",
        "  # print(\"set containing keywords of both strings\", rvector)\n",
        "  for w in rvector: \n",
        "      if w in X_set: l1.append(1) # create a vector \n",
        "      else: l1.append(0)\n",
        "\n",
        "      if w in Y_set: l2.append(1) \n",
        "      else: l2.append(0) \n",
        "  \n",
        "  c = 0\n",
        "\n",
        "  # cosine formula  \n",
        "  for i in range(len(rvector)): \n",
        "          c+= l1[i]*l2[i] \n",
        "  #print(\"Dot Product: \", c)\n",
        "  cosine = c / float((sum(l1)*sum(l2))**0.5)\n",
        "  return cosine\n",
        "\n",
        "def ifSubset(list1, subset):\n",
        "  return  all(item in list1 for item in subset)\n",
        "  \n",
        "#print(\"similarity: \", cosine)"
      ],
      "execution_count": null,
      "outputs": []
    },
    {
      "cell_type": "markdown",
      "metadata": {
        "id": "EZEUjT6-ju-a"
      },
      "source": [
        "## Modified Cosine Similarity Algorithm:\n",
        "**\"How much of input sentence is in DataFile matching observation.\"**\n",
        "\n",
        "\n",
        "We dont have to see how similar the two sentences are to each other, we just have to see how similar input sentence is to the sentence in corpus. For example, if \n",
        "input sentence: I love apple.\n",
        "sentence from data file: I love apples. Containers shall be provided for the collection and separation of waste, trash, oily and used rags, and other refuse. Containers used for garbage and other oily, flammable, or hazardous wastes, such as caustics, acids, harmful dusts, etc. shall be equipped with covers. Garbage and other waste shall be disposed of at frequent and regular intervals.\n",
        "Sentence 2 is similar to sentence 1 but sentence 1 is not similar to sentence 1. Similarity coefficient will give very low value. whereas, it is a perfect match with our input sentence.\n",
        "\n",
        "For example, in the case where **input sentence is a subset of sentence from Data File.**"
      ]
    },
    {
      "cell_type": "code",
      "metadata": {
        "id": "dMKqOMZNPO51"
      },
      "source": [
        "def ModifiedSimilarity(X, Y):\n",
        "  # X & Y are two input sentences\n",
        "  # This function will find the cosine similarity between these two sentences\n",
        "\n",
        "  # tokenization \n",
        "  X_list = word_tokenize(X)  \n",
        "  Y_list = word_tokenize(Y)\n",
        "  \n",
        "  # stopwords = sw contains the list of stopwords \n",
        "  sw = stopwords.words('english')  + [\",\", \".\"]\n",
        "  l1 =[];l2 =[] \n",
        "    \n",
        "  # remove stop words from the string \n",
        "  X_set = {w for w in X_list if not w in sw}  \n",
        "  Y_set = {w for w in Y_list if not w in sw} \n",
        "  \n",
        "  # form a set containing keywords of both strings  \n",
        "  for w in X_set: \n",
        "      if w in X_set: l1.append(1) # create a vector \n",
        "      else: l1.append(0)\n",
        "\n",
        "      if w in Y_set: l2.append(1) \n",
        "      else: l2.append(0) \n",
        "  \n",
        "  c = 0\n",
        "  \n",
        "  if sum(l2) == 0:\n",
        "    cosine = 0\n",
        "  else:\n",
        "    # cosine formula  \n",
        "    for i in range(len(X_set)):\n",
        "          c+= l1[i]*l2[i] \n",
        "    cosine = c / float((sum(l1)*sum(l2))**0.5)\n",
        "  return cosine"
      ],
      "execution_count": null,
      "outputs": []
    },
    {
      "cell_type": "code",
      "metadata": {
        "id": "fdetmIUanMmx"
      },
      "source": [
        "#sentence = \"Face and eye protection equipment shall be kept clean and in good\"+\" repair. The use of this type equipment with structural or optical defects shall be prohibited.\"\n",
        "#similarity = ModifiedSimilarity(X, sentence.lower())\n",
        "#print(\"Similarity\", similarity)\n",
        "\n",
        "max = -100\n",
        "output = \"NONE\"\n",
        "\n",
        "max1 = -100\n",
        "output1 = \"NONE\"\n",
        "\n",
        "max2 = -100\n",
        "output2 = \"NONE\"\n",
        "print(\"Input: \", X)\n",
        "\n",
        "for sentence in dataList:\n",
        "  #similarity = SimilarityBetweenTwoSentences(X, sentence.lower())\n",
        "  similarity = ModifiedSimilarity(X, sentence.lower())\n",
        "  \n",
        "  if similarity > max:\n",
        "    max = similarity\n",
        "    output = sentence\n",
        "  \n",
        "  elif similarity > max1 and (sentence != output) and (sentence != output1):\n",
        "    max1 = similarity\n",
        "    output1 = sentence\n",
        "  \n",
        "  elif similarity > max2 and (sentence != output) and (sentence != output1) and (sentence != output2):\n",
        "    max2 = similarity\n",
        "    output2 = sentence\n",
        "  \n"
      ],
      "execution_count": null,
      "outputs": []
    },
    {
      "cell_type": "code",
      "metadata": {
        "id": "tn8I1jJGt8aR"
      },
      "source": [
        "print(\"Input sentence: \", X)\n",
        "print(\"\")\n",
        "print(\"Sentence1: \", output)\n",
        "print(\"Similarity Coefficent: \", max)\n",
        "print(\"\")\n",
        "print(\"Sentence2: \", output1)\n",
        "print(\"Similarity Coefficent: \", max1)\n",
        "print(\"\")\n",
        "print(\"Sentence3: \", output2)\n",
        "print(\"Similarity Coefficent: \", max2)"
      ],
      "execution_count": null,
      "outputs": []
    },
    {
      "cell_type": "markdown",
      "metadata": {
        "id": "T0TbGuhiD_Po"
      },
      "source": [
        "## Problems of cosine similarity\n",
        "\n",
        "1.   **No room for semantics:** It is not required in our case, otherwise we will have to use Word embeddings as vectors to capture semantics.\n",
        "2.   **Ordering of words:** i love food VS. I went to Lahore, my love for the city never died. After living in Canada my whole life, it felt strange, but nice. Food was spicy in Lahore.\n",
        "Input sentence has love and food together but in other sentence, they are way apart. input sentence will match well with second sentence but it shouldn't because love and food are way apart and has no correlation.\n",
        "\n",
        "\n",
        "For this we will use Neural network with LSTMs, where positioning of words in a sentence will also be taken care of."
      ]
    },
    {
      "cell_type": "markdown",
      "metadata": {
        "id": "9XggPqYbDk1z"
      },
      "source": [
        "## Neural Network with LSTMs for Text Similarity\n"
      ]
    },
    {
      "cell_type": "code",
      "metadata": {
        "id": "FE0CfVlJDqA7"
      },
      "source": [
        ""
      ],
      "execution_count": null,
      "outputs": []
    }
  ]
}
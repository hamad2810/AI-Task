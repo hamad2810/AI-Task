{
  "nbformat": 4,
  "nbformat_minor": 0,
  "metadata": {
    "colab": {
      "name": "AI Task.ipynb",
      "provenance": [],
      "collapsed_sections": [],
      "toc_visible": true
    },
    "kernelspec": {
      "name": "python3",
      "display_name": "Python 3"
    }
  },
  "cells": [
    {
      "cell_type": "markdown",
      "metadata": {
        "id": "rPoFZonJ6N_w"
      },
      "source": [
        "# AI TASK\n",
        "\n",
        "First few things that you can tell just by looking at the problem is that it involves finding the similarity between sentences. If we can find the simliraity between input senstence with every other sentence in the DATA file.\n",
        "\n",
        "---\n"
      ]
    },
    {
      "cell_type": "code",
      "metadata": {
        "id": "H0Hb1mn9F5au",
        "outputId": "f3686a17-35bc-420b-af4b-8c9ee5e78d2c",
        "colab": {
          "base_uri": "https://localhost:8080/",
          "height": 72
        }
      },
      "source": [
        "# Importing data from Github\n",
        "!npx degit hamad2810/AI-Task//blob/master/al -f"
      ],
      "execution_count": 1,
      "outputs": [
        {
          "output_type": "stream",
          "text": [
            "\u001b[K\u001b[?25hnpx: installed 1 in 2.254s\n",
            "\u001b[36m> destination directory is not empty. Using --force, continuing\u001b[39m\n",
            "\u001b[36m> cloned \u001b[1mhamad2810/AI-Task\u001b[22m#\u001b[1mmaster\u001b[22m\u001b[39m\n"
          ],
          "name": "stdout"
        }
      ]
    },
    {
      "cell_type": "code",
      "metadata": {
        "id": "-5vtLLvToFcw",
        "outputId": "f2e87c1b-d3d6-42f2-9eec-16c203aaf9cd",
        "colab": {
          "base_uri": "https://localhost:8080/",
          "height": 206
        }
      },
      "source": [
        "import pandas as pd\n",
        "df = pd.read_excel('SORs.xlsx')\n",
        "df.head()"
      ],
      "execution_count": 2,
      "outputs": [
        {
          "output_type": "execute_result",
          "data": {
            "text/html": [
              "<div>\n",
              "<style scoped>\n",
              "    .dataframe tbody tr th:only-of-type {\n",
              "        vertical-align: middle;\n",
              "    }\n",
              "\n",
              "    .dataframe tbody tr th {\n",
              "        vertical-align: top;\n",
              "    }\n",
              "\n",
              "    .dataframe thead th {\n",
              "        text-align: right;\n",
              "    }\n",
              "</style>\n",
              "<table border=\"1\" class=\"dataframe\">\n",
              "  <thead>\n",
              "    <tr style=\"text-align: right;\">\n",
              "      <th></th>\n",
              "      <th>Observation Details</th>\n",
              "    </tr>\n",
              "  </thead>\n",
              "  <tbody>\n",
              "    <tr>\n",
              "      <th>0</th>\n",
              "      <td>Face and eye protection equipment shall be kep...</td>\n",
              "    </tr>\n",
              "    <tr>\n",
              "      <th>1</th>\n",
              "      <td>Containers shall be provided for the collectio...</td>\n",
              "    </tr>\n",
              "    <tr>\n",
              "      <th>2</th>\n",
              "      <td>\"Application.\" Protective equipment, including...</td>\n",
              "    </tr>\n",
              "    <tr>\n",
              "      <th>3</th>\n",
              "      <td>\"Application.\" Protective equipment, including...</td>\n",
              "    </tr>\n",
              "    <tr>\n",
              "      <th>4</th>\n",
              "      <td>Employees shall be provided with eye and face ...</td>\n",
              "    </tr>\n",
              "  </tbody>\n",
              "</table>\n",
              "</div>"
            ],
            "text/plain": [
              "                                 Observation Details\n",
              "0  Face and eye protection equipment shall be kep...\n",
              "1  Containers shall be provided for the collectio...\n",
              "2  \"Application.\" Protective equipment, including...\n",
              "3  \"Application.\" Protective equipment, including...\n",
              "4  Employees shall be provided with eye and face ..."
            ]
          },
          "metadata": {
            "tags": []
          },
          "execution_count": 2
        }
      ]
    },
    {
      "cell_type": "code",
      "metadata": {
        "id": "AHwL1y9SoqX5"
      },
      "source": [
        "#X =\"Face and eye protection equipment shall be kept clean and in good repair\".lower()\n",
        "X = input(\"Enter input string: \").lower()"
      ],
      "execution_count": 3,
      "outputs": []
    },
    {
      "cell_type": "code",
      "metadata": {
        "id": "VolOlmJDvDCe",
        "outputId": "5c3a6073-2b39-4c3b-d406-fea161503442",
        "colab": {
          "base_uri": "https://localhost:8080/",
          "height": 35
        }
      },
      "source": [
        "dataList = df['Observation Details'].to_list()\n",
        "print(len(dataList))\n",
        "\n",
        "del df\n",
        "#dataList = list(set(dataList))"
      ],
      "execution_count": 4,
      "outputs": [
        {
          "output_type": "stream",
          "text": [
            "201\n"
          ],
          "name": "stdout"
        }
      ]
    },
    {
      "cell_type": "markdown",
      "metadata": {
        "id": "Nr2k-n7AtOVr"
      },
      "source": [
        "## Cosine Similarity:\n",
        "Finding cosine similarity of input sentence with every sentence in our \"Obersvations Details.xlsx\" file. Output sentences with maximum value of similarity coefficient.\n",
        "\n",
        "\n",
        "\n"
      ]
    },
    {
      "cell_type": "code",
      "metadata": {
        "id": "i8oIK7v-CBjs"
      },
      "source": [
        "# Program to measure the similarity between  \n",
        "# two sentences using cosine similarity.\n",
        "from nltk.corpus import stopwords \n",
        "from nltk.tokenize import word_tokenize\n",
        "import nltk\n",
        "nltk.download('punkt')\n",
        "nltk.download('stopwords')"
      ],
      "execution_count": null,
      "outputs": []
    },
    {
      "cell_type": "code",
      "metadata": {
        "id": "zgH_0O_B1C4l"
      },
      "source": [
        "def SimilarityBetweenTwoSentences(X, Y):\n",
        "  # X & Y are two input sentences\n",
        "  # This function will find the cosine similarity between these two sentences\n",
        "\n",
        "  # tokenization \n",
        "  X_list = word_tokenize(X)  \n",
        "  Y_list = word_tokenize(Y)\n",
        "  #print(\"After tokenization: \", X_list)\n",
        "  # stopwords = sw contains the list of stopwords \n",
        "  sw = stopwords.words('english')  + [\",\", \".\"]\n",
        "  l1 =[];l2 =[] \n",
        "    \n",
        "  # remove stop words from the string \n",
        "  X_set = {w for w in X_list if not w in sw}  \n",
        "  Y_set = {w for w in Y_list if not w in sw} \n",
        "  #print(\"After removing stopwords: \", X_set)\n",
        "\n",
        "  # form a set containing keywords of both strings  \n",
        "  rvector = X_set.union(Y_set)\n",
        "  # print(\"Check: \", check)\n",
        "  # print(\"set containing keywords of both strings\", rvector)\n",
        "  for w in rvector: \n",
        "      if w in X_set: l1.append(1) # create a vector \n",
        "      else: l1.append(0)\n",
        "\n",
        "      if w in Y_set: l2.append(1) \n",
        "      else: l2.append(0) \n",
        "  \n",
        "  c = 0\n",
        "\n",
        "  # cosine formula  \n",
        "  for i in range(len(rvector)): \n",
        "          c+= l1[i]*l2[i] \n",
        "  #print(\"Dot Product: \", c)\n",
        "  cosine = c / float((sum(l1)*sum(l2))**0.5)\n",
        "  return cosine\n",
        "\n",
        "def ifSubset(list1, subset):\n",
        "  return  all(item in list1 for item in subset)\n"
      ],
      "execution_count": null,
      "outputs": []
    },
    {
      "cell_type": "code",
      "metadata": {
        "id": "gwoJhqYHyspW"
      },
      "source": [
        "max = -100\n",
        "output = \"NONE\"\n",
        "\n",
        "max1 = -100\n",
        "output1 = \"NONE\"\n",
        "\n",
        "max2 = -100\n",
        "output2 = \"NONE\"\n",
        "\n",
        "for sentence in dataList:\n",
        "  similarity = SimilarityBetweenTwoSentences(X, sentence.lower())\n",
        "  \n",
        "  if similarity > max:\n",
        "    max = similarity\n",
        "    output = sentence\n",
        "  \n",
        "  elif similarity > max1 and (sentence != output) and (sentence != output1):\n",
        "    max1 = similarity\n",
        "    output1 = sentence\n",
        "  \n",
        "  elif similarity > max2 and (sentence != output) and (sentence != output1) and (sentence != output2):\n",
        "    max2 = similarity\n",
        "    output2 = sentence"
      ],
      "execution_count": null,
      "outputs": []
    },
    {
      "cell_type": "code",
      "metadata": {
        "id": "YbPZC1alytFd"
      },
      "source": [
        "print(\"Input sentence: \", X)\n",
        "print(\"\")\n",
        "print(\"Sentence1: \", output)\n",
        "print(\"Similarity Coefficent: \", max)\n",
        "print(\"\")\n",
        "print(\"Sentence2: \", output1)\n",
        "print(\"Similarity Coefficent: \", max1)\n",
        "print(\"\")\n",
        "print(\"Sentence3: \", output2)\n",
        "print(\"Similarity Coefficent: \", max2)"
      ],
      "execution_count": null,
      "outputs": []
    },
    {
      "cell_type": "markdown",
      "metadata": {
        "id": "EZEUjT6-ju-a"
      },
      "source": [
        "## Modified Cosine Similarity Algorithm:\n",
        "**\"How much of input sentence is in DataFile matching observation.\"**"
      ]
    },
    {
      "cell_type": "code",
      "metadata": {
        "id": "dMKqOMZNPO51"
      },
      "source": [
        "def ModifiedSimilarity(X, Y):\n",
        "  # X & Y are two input sentences\n",
        "  # This function will find the cosine similarity between these two sentences\n",
        "\n",
        "  # tokenization \n",
        "  X_list = word_tokenize(X)  \n",
        "  Y_list = word_tokenize(Y)\n",
        "  \n",
        "  # stopwords = sw contains the list of stopwords \n",
        "  sw = stopwords.words('english')  + [\",\", \".\"]\n",
        "  l1 =[];l2 =[] \n",
        "    \n",
        "  # remove stop words from the string \n",
        "  X_set = {w for w in X_list if not w in sw}  \n",
        "  Y_set = {w for w in Y_list if not w in sw} \n",
        "  \n",
        "  # form a set containing keywords of both strings  \n",
        "  for w in X_set: \n",
        "      if w in X_set: l1.append(1) # create a vector \n",
        "      else: l1.append(0)\n",
        "\n",
        "      if w in Y_set: l2.append(1) \n",
        "      else: l2.append(0) \n",
        "  \n",
        "  c = 0\n",
        "  \n",
        "  if sum(l2) == 0:\n",
        "    cosine = 0\n",
        "  else:\n",
        "    # cosine formula  \n",
        "    for i in range(len(X_set)):\n",
        "          c+= l1[i]*l2[i] \n",
        "    cosine = c / float((sum(l1)*sum(l2))**0.5)\n",
        "  return cosine"
      ],
      "execution_count": null,
      "outputs": []
    },
    {
      "cell_type": "code",
      "metadata": {
        "id": "fdetmIUanMmx"
      },
      "source": [
        "max = -100\n",
        "output = \"NONE\"\n",
        "\n",
        "max1 = -100\n",
        "output1 = \"NONE\"\n",
        "\n",
        "max2 = -100\n",
        "output2 = \"NONE\"\n",
        "\n",
        "for sentence in dataList:\n",
        "  similarity = SimilarityBetweenTwoSentences(X, sentence.lower())\n",
        "  \n",
        "  if similarity > max:\n",
        "    max = similarity\n",
        "    output = sentence\n",
        "  \n",
        "  elif similarity > max1 and (sentence != output) and (sentence != output1):\n",
        "    max1 = similarity\n",
        "    output1 = sentence\n",
        "  \n",
        "  elif similarity > max2 and (sentence != output) and (sentence != output1) and (sentence != output2):\n",
        "    max2 = similarity\n",
        "    output2 = sentence"
      ],
      "execution_count": null,
      "outputs": []
    },
    {
      "cell_type": "code",
      "metadata": {
        "id": "tn8I1jJGt8aR"
      },
      "source": [
        "print(\"Input sentence: \", X)\n",
        "print(\"\")\n",
        "print(\"Sentence1: \", output)\n",
        "print(\"Similarity Coefficent: \", max)\n",
        "print(\"\")\n",
        "print(\"Sentence2: \", output1)\n",
        "print(\"Similarity Coefficent: \", max1)\n",
        "print(\"\")\n",
        "print(\"Sentence3: \", output2)\n",
        "print(\"Similarity Coefficent: \", max2)"
      ],
      "execution_count": null,
      "outputs": []
    },
    {
      "cell_type": "markdown",
      "metadata": {
        "id": "KvWkFm5QyNJt"
      },
      "source": [
        "## Word Embeddings\n",
        "\n",
        "### 1. Word2Vec\n",
        "\n",
        "\n"
      ]
    },
    {
      "cell_type": "code",
      "metadata": {
        "id": "X7RmnLJvtgOl"
      },
      "source": [
        "from gensim.models import Word2Vec\n",
        "import numpy as np\n"
      ],
      "execution_count": null,
      "outputs": []
    },
    {
      "cell_type": "code",
      "metadata": {
        "id": "2PEHMtheVK4E"
      },
      "source": [
        "\n",
        "model = Word2Vec(sentences= dataList, size=50, min_count=1, sg=1)\n",
        "\n",
        "def vectorizer(sentence, model):\n",
        "  vec=[]\n",
        "  numw=0\n",
        "  for word in sentence:\n",
        "    if numw == 0:\n",
        "      vec = model[word]\n",
        "    else:\n",
        "      vec = np.add(vec, model[word])\n",
        "    numw += 1\n",
        "  return np.asarray(vec) / numw\n",
        "\n",
        "vectorized_X = np.array(vectorizer(X,model))  # numpy array of Vectorized input sentence\n",
        "distance_X = np.linalg.norm(vectorized_X-vectorized_X)\n",
        "\n",
        "min = 100\n",
        "output = \"NONE\"\n",
        "\n",
        "min1 = 100\n",
        "output1 = \"NONE\"\n",
        "\n",
        "min2 = 100\n",
        "output2 = \"NONE\"\n",
        "\n",
        "# m = Length of data file i.e., 201 in our case\n",
        "data_vector=[] # This is the list of Embeddings vectors of each data file sentence. (m*50)\n",
        "distance_array = [] # This is the array of euclidean distances of each data vector from input vector (m*1)\n",
        "\n",
        "for phrase in dataList:\n",
        "  phrase_vector = vectorizer(phrase, model)\n",
        "  distance = np.linalg.norm(vectorized_X - phrase_vector)\n",
        "  \n",
        "  data_vector.append(phrase_vector)\n",
        "  distance_array.append(distance)\n",
        "\n",
        "  if distance < min:\n",
        "    min = distance\n",
        "    output = phrase\n",
        "  \n",
        "  elif distance < min1:\n",
        "    min1 = distance\n",
        "    output1 = phrase\n",
        "  \n",
        "  elif distance < min2:\n",
        "    min2 = distance\n",
        "    output2 = phrase\n",
        "\n",
        "\n",
        "distance_array = np.array(distance_array)"
      ],
      "execution_count": null,
      "outputs": []
    },
    {
      "cell_type": "code",
      "metadata": {
        "id": "cWJJPgtnNspv"
      },
      "source": [
        "print(len(vectorized_X)) # 50 dimensional Embedding vector of input phrase\n",
        "print(data_array.shape)  # m+1*50 dim array of input + data sentences Embeddings\n",
        " \n",
        "# m dim array of euclidean distances of each phrase Embedding Vector from input phrase Embedding Vector\n",
        "print(distance_array.shape)"
      ],
      "execution_count": null,
      "outputs": []
    },
    {
      "cell_type": "code",
      "metadata": {
        "id": "KilIbWE4gY4E"
      },
      "source": [
        "print(\"Input sentence: \", X)\n",
        "print(\"\")\n",
        "print(\"Output Sentence 1: \", output)\n",
        "print(\"Eculidean Distance: \", min)\n",
        "print(\"\")\n",
        "print(\"Output Sentence 2: \", output1)\n",
        "print(\"Eculidean Distance: \", min1)\n",
        "print(\"\")\n",
        "print(\"Sentence3: \", output2)\n",
        "print(\"Eculidean Distance: \", min2)\n",
        "  "
      ],
      "execution_count": null,
      "outputs": []
    },
    {
      "cell_type": "code",
      "metadata": {
        "id": "YgUoS7-qf9nk"
      },
      "source": [
        "print(data_array.shape)\n",
        "print(data_array[0])\n",
        "print(data_array[1].shape)\n"
      ],
      "execution_count": null,
      "outputs": []
    },
    {
      "cell_type": "markdown",
      "metadata": {
        "id": "sMXek67COrQc"
      },
      "source": [
        "### Data Visualization using Principal Component Analysis (PCA)\n",
        "\n",
        "Embedding vectors from Wor2Vec are 50 dimensional for each sentence in data file. We will convert these 50 dimensional vectors to 2D vectors using PCA for visualization."
      ]
    },
    {
      "cell_type": "code",
      "metadata": {
        "id": "Ed_Dsu3Ct5dp"
      },
      "source": [
        "import matplotlib.pyplot as plt\n",
        "from sklearn.decomposition import PCA \n"
      ],
      "execution_count": null,
      "outputs": []
    },
    {
      "cell_type": "code",
      "metadata": {
        "id": "SKf5Y2yXOMre",
        "outputId": "0b68a70d-9e09-46fe-9dfc-e1c48d725e3c",
        "colab": {
          "base_uri": "https://localhost:8080/",
          "height": 317
        }
      },
      "source": [
        "\n",
        "data_vector.append(vectorized_X) # For PCA\n",
        "data_array = np.array(data_vector) # To numpy array of input + data vectors 50dim\n",
        "\n",
        "pca = PCA(n_components = 2) \n",
        "# print(vectorized_X.shape)\n",
        "X_transformed = pca.fit_transform(data_array)\n",
        "print(X_transformed.shape)\n",
        "print(X_transformed[0])\n",
        "\n",
        "# Use matplotlib in notebook output\n",
        "#%matplotlib inline\n",
        "\n",
        "plotx = []\n",
        "ploty = []\n",
        "\n",
        "for i in range(len(X_transformed)):\n",
        "    plotx.append(X_transformed[i][0])\n",
        "    ploty.append(X_transformed[i][1])\n",
        "\n",
        "# Create plot\n",
        "fig = plt.figure()\n",
        "ax = fig.add_subplot(1, 1, 1, facecolor=\"0.8\")\n",
        "\n",
        "data = ((plotx, ploty)), (X_transformed[0][0],X_transformed[0][1])\n",
        "colors = (\"blue\", \"red\")\n",
        "groups = (\"data file Phrases\", \"Input Phrase\")\n",
        "\n",
        "for data, color, group in zip(data, colors, groups):\n",
        "  x, y = data\n",
        "  ax.scatter(x, y, c=color, edgecolors='none', label=group)\n",
        "plt.title('2D Embedding vectors plot using PCA')\n",
        "plt.legend(loc=2)\n",
        "plt.show()\n"
      ],
      "execution_count": 64,
      "outputs": [
        {
          "output_type": "stream",
          "text": [
            "(201, 2)\n",
            "[-0.00047472  0.03684627]\n"
          ],
          "name": "stdout"
        },
        {
          "output_type": "display_data",
          "data": {
            "image/png": "[encoded data removed]",
            "text/plain": [
              "<Figure size 432x288 with 1 Axes>"
            ]
          },
          "metadata": {
            "tags": [],
            "needs_background": "light"
          }
        }
      ]
    },
    {
      "cell_type": "code",
      "metadata": {
        "id": "S_T2APNJsukD",
        "outputId": "002c7877-e1b3-4882-a125-f056e1451fde",
        "colab": {
          "base_uri": "https://localhost:8080/",
          "height": 281
        }
      },
      "source": [
        "plotx = []\n",
        "ploty = []\n",
        "\n",
        "for i in range(len(distance_array)):\n",
        "    plotx.append(distance_array[i])\n",
        "    ploty.append(i + 1)\n",
        "\n",
        "# Create plot\n",
        "fig = plt.figure()\n",
        "ax = fig.add_subplot(1, 1, 1, facecolor=\"0.8\")\n",
        "\n",
        "data = ((plotx, ploty), (0,0))\n",
        "colors = (\"blue\", \"red\")\n",
        "groups = (\"data file Phrases\", \"Input Phrase\")\n",
        "\n",
        "for data, color, group in zip(data, colors, groups):\n",
        "  x, y = data\n",
        "  ax.scatter(x, y, c=color, edgecolors='none', label=group)\n",
        "plt.title('Distance values plot of each data phrase from input phrase ')\n",
        "# Red dot is at (0,0) as it is the distance of input phrase from itself.\n",
        "plt.legend(loc=2)\n",
        "plt.show()"
      ],
      "execution_count": 78,
      "outputs": [
        {
          "output_type": "display_data",
          "data": {
            "image/png": "[encoded data removed]",
            "text/plain": [
              "<Figure size 432x288 with 1 Axes>"
            ]
          },
          "metadata": {
            "tags": [],
            "needs_background": "light"
          }
        }
      ]
    },
    {
      "cell_type": "markdown",
      "metadata": {
        "id": "44tT0pG2zvvP"
      },
      "source": [
        "## Summary\n",
        "As we can see from the few algorithms we tried, its hard to see which algorithm performed better than other. Wihout domain knowledge, meaning without knowing whether semantic matter or not or how we define the good output and bad output. We can't compare outputs so it makes it hard to choose the best algorithm for choosing most appropriate obeservations from out data list."
      ]
    }
  ]
}